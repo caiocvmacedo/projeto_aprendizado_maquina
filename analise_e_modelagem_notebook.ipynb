{
 "cells": [
  {
   "cell_type": "markdown",
   "metadata": {},
   "source": [
    "# FRAGANCE SCORE: \n",
    "## MODELO PREDITIVO PARA AVALIAÇÃO DE PERFUMES"
   ]
  },
  {
   "cell_type": "markdown",
   "metadata": {},
   "source": [
    "# Autores:\n",
    "- Caio Cezar Veronezi Macedo, RA: 11050916, email: cezar.veronezi@aluno.ufabc.edu.br"
   ]
  },
  {
   "cell_type": "markdown",
   "metadata": {},
   "source": [
    "## Imports"
   ]
  },
  {
   "cell_type": "code",
   "execution_count": 1,
   "metadata": {},
   "outputs": [
    {
     "name": "stderr",
     "output_type": "stream",
     "text": [
      "c:\\Users\\Caio\\anaconda3\\Lib\\site-packages\\pandas\\core\\arrays\\masked.py:60: UserWarning: Pandas requires version '1.3.6' or newer of 'bottleneck' (version '1.3.5' currently installed).\n",
      "  from pandas.core import (\n"
     ]
    }
   ],
   "source": [
    "import pandas as pd\n",
    "import matplotlib.pyplot as plt\n",
    "import seaborn as sns"
   ]
  },
  {
   "cell_type": "markdown",
   "metadata": {},
   "source": [
    "## Importação dos dados"
   ]
  },
  {
   "cell_type": "code",
   "execution_count": 2,
   "metadata": {},
   "outputs": [
    {
     "data": {
      "text/html": [
       "<div>\n",
       "<style scoped>\n",
       "    .dataframe tbody tr th:only-of-type {\n",
       "        vertical-align: middle;\n",
       "    }\n",
       "\n",
       "    .dataframe tbody tr th {\n",
       "        vertical-align: top;\n",
       "    }\n",
       "\n",
       "    .dataframe thead th {\n",
       "        text-align: right;\n",
       "    }\n",
       "</style>\n",
       "<table border=\"1\" class=\"dataframe\">\n",
       "  <thead>\n",
       "    <tr style=\"text-align: right;\">\n",
       "      <th></th>\n",
       "      <th>Number</th>\n",
       "      <th>Name</th>\n",
       "      <th>Brand</th>\n",
       "      <th>Release_Year</th>\n",
       "      <th>Concentration</th>\n",
       "      <th>Rating_Value</th>\n",
       "      <th>Rating_Count</th>\n",
       "      <th>Main_Accords</th>\n",
       "      <th>Top_Notes</th>\n",
       "      <th>Middle_Notes</th>\n",
       "      <th>Base_Notes</th>\n",
       "      <th>Perfumers</th>\n",
       "      <th>URL</th>\n",
       "    </tr>\n",
       "  </thead>\n",
       "  <tbody>\n",
       "    <tr>\n",
       "      <th>0</th>\n",
       "      <td>455</td>\n",
       "      <td>Tabac Écarlate</td>\n",
       "      <td>Le Ré Noir</td>\n",
       "      <td>NaN</td>\n",
       "      <td>NaN</td>\n",
       "      <td>NaN</td>\n",
       "      <td>NaN</td>\n",
       "      <td>NaN</td>\n",
       "      <td>NaN</td>\n",
       "      <td>NaN</td>\n",
       "      <td>NaN</td>\n",
       "      <td>Valery Sokolov / Валерий Соколов</td>\n",
       "      <td>https://www.parfumo.com/Perfumes/Le_Re_Noir/45...</td>\n",
       "    </tr>\n",
       "    <tr>\n",
       "      <th>1</th>\n",
       "      <td>0071</td>\n",
       "      <td>Tidal Pool</td>\n",
       "      <td>CB I Hate Perfume</td>\n",
       "      <td>2004.0</td>\n",
       "      <td>NaN</td>\n",
       "      <td>NaN</td>\n",
       "      <td>NaN</td>\n",
       "      <td>NaN</td>\n",
       "      <td>Bergamot</td>\n",
       "      <td>French lavender</td>\n",
       "      <td>Musk, Foulness</td>\n",
       "      <td>Harry Frémont</td>\n",
       "      <td>https://www.parfumo.com/Perfumes/CB_I_Hate_Per...</td>\n",
       "    </tr>\n",
       "    <tr>\n",
       "      <th>2</th>\n",
       "      <td>0154</td>\n",
       "      <td>Pumpkin Pie</td>\n",
       "      <td>CB I Hate Perfume</td>\n",
       "      <td>1998.0</td>\n",
       "      <td>NaN</td>\n",
       "      <td>NaN</td>\n",
       "      <td>NaN</td>\n",
       "      <td>Green, Leathery, Chypre, Animal</td>\n",
       "      <td>NaN</td>\n",
       "      <td>NaN</td>\n",
       "      <td>NaN</td>\n",
       "      <td>NaN</td>\n",
       "      <td>https://www.parfumo.com/Perfumes/CB_I_Hate_Per...</td>\n",
       "    </tr>\n",
       "    <tr>\n",
       "      <th>3</th>\n",
       "      <td>0162</td>\n",
       "      <td>Wet Stone</td>\n",
       "      <td>CB I Hate Perfume</td>\n",
       "      <td>2006.0</td>\n",
       "      <td>NaN</td>\n",
       "      <td>NaN</td>\n",
       "      <td>NaN</td>\n",
       "      <td>NaN</td>\n",
       "      <td>NaN</td>\n",
       "      <td>NaN</td>\n",
       "      <td>NaN</td>\n",
       "      <td>NaN</td>\n",
       "      <td>https://www.parfumo.com/Perfumes/CB_I_Hate_Per...</td>\n",
       "    </tr>\n",
       "    <tr>\n",
       "      <th>4</th>\n",
       "      <td>0171</td>\n",
       "      <td>Chocolate Box</td>\n",
       "      <td>CB I Hate Perfume</td>\n",
       "      <td>NaN</td>\n",
       "      <td>NaN</td>\n",
       "      <td>NaN</td>\n",
       "      <td>NaN</td>\n",
       "      <td>NaN</td>\n",
       "      <td>NaN</td>\n",
       "      <td>NaN</td>\n",
       "      <td>NaN</td>\n",
       "      <td>NaN</td>\n",
       "      <td>https://www.parfumo.com/Perfumes/CB_I_Hate_Per...</td>\n",
       "    </tr>\n",
       "  </tbody>\n",
       "</table>\n",
       "</div>"
      ],
      "text/plain": [
       "  Number            Name              Brand  Release_Year Concentration  \\\n",
       "0    455  Tabac Écarlate         Le Ré Noir           NaN           NaN   \n",
       "1   0071      Tidal Pool  CB I Hate Perfume        2004.0           NaN   \n",
       "2   0154     Pumpkin Pie  CB I Hate Perfume        1998.0           NaN   \n",
       "3   0162       Wet Stone  CB I Hate Perfume        2006.0           NaN   \n",
       "4   0171   Chocolate Box  CB I Hate Perfume           NaN           NaN   \n",
       "\n",
       "   Rating_Value  Rating_Count                     Main_Accords Top_Notes  \\\n",
       "0           NaN           NaN                              NaN       NaN   \n",
       "1           NaN           NaN                              NaN  Bergamot   \n",
       "2           NaN           NaN  Green, Leathery, Chypre, Animal       NaN   \n",
       "3           NaN           NaN                              NaN       NaN   \n",
       "4           NaN           NaN                              NaN       NaN   \n",
       "\n",
       "      Middle_Notes      Base_Notes                         Perfumers  \\\n",
       "0              NaN             NaN  Valery Sokolov / Валерий Соколов   \n",
       "1  French lavender  Musk, Foulness                     Harry Frémont   \n",
       "2              NaN             NaN                               NaN   \n",
       "3              NaN             NaN                               NaN   \n",
       "4              NaN             NaN                               NaN   \n",
       "\n",
       "                                                 URL  \n",
       "0  https://www.parfumo.com/Perfumes/Le_Re_Noir/45...  \n",
       "1  https://www.parfumo.com/Perfumes/CB_I_Hate_Per...  \n",
       "2  https://www.parfumo.com/Perfumes/CB_I_Hate_Per...  \n",
       "3  https://www.parfumo.com/Perfumes/CB_I_Hate_Per...  \n",
       "4  https://www.parfumo.com/Perfumes/CB_I_Hate_Per...  "
      ]
     },
     "execution_count": 2,
     "metadata": {},
     "output_type": "execute_result"
    }
   ],
   "source": [
    "url = 'https://raw.githubusercontent.com/rfordatascience/tidytuesday/main/data/2024/2024-12-10/parfumo_data_clean.csv'\n",
    "\n",
    "parfum = pd.read_csv(url)\n",
    "\n",
    "parfum.head()"
   ]
  },
  {
   "cell_type": "code",
   "execution_count": 4,
   "metadata": {},
   "outputs": [
    {
     "data": {
      "text/plain": [
       "Index(['Number', 'Name', 'Brand', 'Release_Year', 'Concentration',\n",
       "       'Rating_Value', 'Rating_Count', 'Main_Accords', 'Top_Notes',\n",
       "       'Middle_Notes', 'Base_Notes', 'Perfumers', 'URL'],\n",
       "      dtype='object')"
      ]
     },
     "execution_count": 4,
     "metadata": {},
     "output_type": "execute_result"
    }
   ],
   "source": [
    "parfum.columns"
   ]
  },
  {
   "cell_type": "code",
   "execution_count": 3,
   "metadata": {},
   "outputs": [
    {
     "data": {
      "text/plain": [
       "Number            1420\n",
       "Name             59324\n",
       "Brand            59324\n",
       "Release_Year     39009\n",
       "Concentration    12483\n",
       "Rating_Value     30046\n",
       "Rating_Count     30046\n",
       "Main_Accords     32225\n",
       "Top_Notes        31139\n",
       "Middle_Notes     31149\n",
       "Base_Notes       31154\n",
       "Perfumers        20544\n",
       "URL              59325\n",
       "dtype: int64"
      ]
     },
     "execution_count": 3,
     "metadata": {},
     "output_type": "execute_result"
    }
   ],
   "source": [
    "parfum.count()"
   ]
  },
  {
   "cell_type": "markdown",
   "metadata": {},
   "source": [
    "## Introdução ao tema & descrição das variáveis do dataset selecionado"
   ]
  },
  {
   "cell_type": "markdown",
   "metadata": {},
   "source": [
    "Os dados sobre perfumes incluem informações detalhadas sobre várias características de fragrâncias de diferentes marcas. Abaixo está uma breve descrição de cada variável:\n",
    "\n",
    "1. **Number**: Identificador único ou número atribuído a cada perfume para diferenciá-los.\n",
    "2. **Name**: Nome do perfume ou fragrância.\n",
    "3. **Brand**: Marca ou fabricante responsável pela criação do perfume.\n",
    "4. **Release_Year**: Ano de lançamento do perfume no mercado.\n",
    "5. **Concentration**: Tipo de concentração da fragrância, como Eau de Parfum ou Eau de Toilette.\n",
    "6. **Rating_Value**: A nota geral dada pelos usuários com base em sua avaliação do perfume.\n",
    "7. **Rating_Count**: Número total de avaliações feitas pelos usuários sobre o perfume.\n",
    "8. **Main_Accords**: Principais características olfativas ou acordes do perfume, como floral, amadeirado, frutado, etc.\n",
    "9. **Top_Notes**: Notas iniciais da fragrância, que são percebidas logo após a aplicação.\n",
    "10. **Middle_Notes**: Notas intermediárias ou \"coração\" da fragrância, que aparecem após a dissipação das notas iniciais.\n",
    "11. **Base_Notes**: Notas finais e duradouras do perfume, que permanecem após a fragrância secar.\n",
    "12. **Perfumers**: Criadores ou perfumistas responsáveis pela composição do perfume.\n",
    "13. **URL**: Link para a página do produto no site Parfumo.com, onde os usuários podem obter mais informações sobre o perfume.\n",
    "\n",
    "Essas variáveis ajudam a analisar e classificar os perfumes com base em suas características olfativas, avaliações dos usuários e informações de lançamento."
   ]
  },
  {
   "cell_type": "markdown",
   "metadata": {},
   "source": [
    "### Variáveis Contínuas:\n",
    "- **Release_Year**\n",
    "- **Rating_Value**\n",
    "- **Rating_Count**\n",
    "\n",
    "### Variáveis Categóricas:\n",
    "- **Number**\n",
    "- **Name**\n",
    "- **Brand**\n",
    "- **Concentration**\n",
    "- **Main_Accords**\n",
    "- **Top_Notes**\n",
    "- **Middle_Notes**\n",
    "- **Base_Notes**\n",
    "- **Perfumers**\n",
    "- **URL**"
   ]
  },
  {
   "cell_type": "markdown",
   "metadata": {},
   "source": [
    "## Análise exploratória"
   ]
  },
  {
   "cell_type": "code",
   "execution_count": 9,
   "metadata": {},
   "outputs": [
    {
     "name": "stdout",
     "output_type": "stream",
     "text": [
      "<class 'pandas.core.frame.DataFrame'>\n",
      "RangeIndex: 59325 entries, 0 to 59324\n",
      "Data columns (total 13 columns):\n",
      " #   Column         Non-Null Count  Dtype  \n",
      "---  ------         --------------  -----  \n",
      " 0   Number         1420 non-null   object \n",
      " 1   Name           59324 non-null  object \n",
      " 2   Brand          59324 non-null  object \n",
      " 3   Release_Year   39009 non-null  float64\n",
      " 4   Concentration  12483 non-null  object \n",
      " 5   Rating_Value   30046 non-null  float64\n",
      " 6   Rating_Count   30046 non-null  float64\n",
      " 7   Main_Accords   32225 non-null  object \n",
      " 8   Top_Notes      31139 non-null  object \n",
      " 9   Middle_Notes   31149 non-null  object \n",
      " 10  Base_Notes     31154 non-null  object \n",
      " 11  Perfumers      20544 non-null  object \n",
      " 12  URL            59325 non-null  object \n",
      "dtypes: float64(3), object(10)\n",
      "memory usage: 5.9+ MB\n"
     ]
    }
   ],
   "source": [
    "# Exibir informações gerais do dataset\n",
    "parfum.info()"
   ]
  },
  {
   "cell_type": "code",
   "execution_count": 10,
   "metadata": {},
   "outputs": [
    {
     "name": "stdout",
     "output_type": "stream",
     "text": [
      "       Release_Year  Rating_Value  Rating_Count\n",
      "count  39009.000000  30046.000000  30046.000000\n",
      "mean    2006.260043      7.347111     60.654929\n",
      "std       22.879287      0.933537    118.187777\n",
      "min     1709.000000      0.000000      2.000000\n",
      "25%     2005.000000      6.900000      6.000000\n",
      "50%     2013.000000      7.400000     19.000000\n",
      "75%     2018.000000      7.900000     62.000000\n",
      "max     2024.000000     10.000000   2732.000000\n"
     ]
    }
   ],
   "source": [
    "# Resumo estatístico das variáveis numéricas\n",
    "print(parfum.describe())"
   ]
  },
  {
   "cell_type": "code",
   "execution_count": 11,
   "metadata": {},
   "outputs": [
    {
     "data": {
      "text/plain": [
       "Number           57905\n",
       "Name                 1\n",
       "Brand                1\n",
       "Release_Year     20316\n",
       "Concentration    46842\n",
       "Rating_Value     29279\n",
       "Rating_Count     29279\n",
       "Main_Accords     27100\n",
       "Top_Notes        28186\n",
       "Middle_Notes     28176\n",
       "Base_Notes       28171\n",
       "Perfumers        38781\n",
       "URL                  0\n",
       "dtype: int64"
      ]
     },
     "execution_count": 11,
     "metadata": {},
     "output_type": "execute_result"
    }
   ],
   "source": [
    "# Verificar valores ausentes\n",
    "parfum.isnull().sum()"
   ]
  },
  {
   "cell_type": "code",
   "execution_count": null,
   "metadata": {},
   "outputs": [
    {
     "name": "stderr",
     "output_type": "stream",
     "text": [
      "c:\\Users\\Caio\\anaconda3\\Lib\\site-packages\\seaborn\\_oldcore.py:1119: FutureWarning: use_inf_as_na option is deprecated and will be removed in a future version. Convert inf values to NaN before operating instead.\n",
      "  with pd.option_context('mode.use_inf_as_na', True):\n",
      "c:\\Users\\Caio\\anaconda3\\Lib\\site-packages\\seaborn\\_oldcore.py:1119: FutureWarning: use_inf_as_na option is deprecated and will be removed in a future version. Convert inf values to NaN before operating instead.\n",
      "  with pd.option_context('mode.use_inf_as_na', True):\n",
      "c:\\Users\\Caio\\anaconda3\\Lib\\site-packages\\seaborn\\_oldcore.py:1119: FutureWarning: use_inf_as_na option is deprecated and will be removed in a future version. Convert inf values to NaN before operating instead.\n",
      "  with pd.option_context('mode.use_inf_as_na', True):\n"
     ]
    },
    {
     "data": {
      "image/png": "[encoded data removed]",
      "text/plain": [
       "<Figure size 1400x800 with 3 Axes>"
      ]
     },
     "metadata": {},
     "output_type": "display_data"
    },
    {
     "name": "stderr",
     "output_type": "stream",
     "text": [
      "C:\\Users\\Caio\\AppData\\Local\\Temp\\ipykernel_10728\\1871332523.py:40: UserWarning: Glyph 36039 (\\N{CJK UNIFIED IDEOGRAPH-8CC7}) missing from current font.\n",
      "  plt.tight_layout()\n",
      "C:\\Users\\Caio\\AppData\\Local\\Temp\\ipykernel_10728\\1871332523.py:40: UserWarning: Glyph 29983 (\\N{CJK UNIFIED IDEOGRAPH-751F}) missing from current font.\n",
      "  plt.tight_layout()\n",
      "C:\\Users\\Caio\\AppData\\Local\\Temp\\ipykernel_10728\\1871332523.py:40: UserWarning: Glyph 22530 (\\N{CJK UNIFIED IDEOGRAPH-5802}) missing from current font.\n",
      "  plt.tight_layout()\n",
      "C:\\Users\\Caio\\AppData\\Local\\Temp\\ipykernel_10728\\1871332523.py:40: UserWarning: Glyph 12469 (\\N{KATAKANA LETTER SA}) missing from current font.\n",
      "  plt.tight_layout()\n",
      "C:\\Users\\Caio\\AppData\\Local\\Temp\\ipykernel_10728\\1871332523.py:40: UserWarning: Glyph 12512 (\\N{KATAKANA LETTER MU}) missing from current font.\n",
      "  plt.tight_layout()\n",
      "C:\\Users\\Caio\\AppData\\Local\\Temp\\ipykernel_10728\\1871332523.py:40: UserWarning: Glyph 12521 (\\N{KATAKANA LETTER RA}) missing from current font.\n",
      "  plt.tight_layout()\n",
      "C:\\Users\\Caio\\AppData\\Local\\Temp\\ipykernel_10728\\1871332523.py:40: UserWarning: Glyph 12452 (\\N{KATAKANA LETTER I}) missing from current font.\n",
      "  plt.tight_layout()\n",
      "C:\\Users\\Caio\\AppData\\Local\\Temp\\ipykernel_10728\\1871332523.py:40: UserWarning: Glyph 12454 (\\N{KATAKANA LETTER U}) missing from current font.\n",
      "  plt.tight_layout()\n",
      "C:\\Users\\Caio\\AppData\\Local\\Temp\\ipykernel_10728\\1871332523.py:40: UserWarning: Glyph 12540 (\\N{KATAKANA-HIRAGANA PROLONGED SOUND MARK}) missing from current font.\n",
      "  plt.tight_layout()\n",
      "C:\\Users\\Caio\\AppData\\Local\\Temp\\ipykernel_10728\\1871332523.py:40: UserWarning: Glyph 12510 (\\N{KATAKANA LETTER MA}) missing from current font.\n",
      "  plt.tight_layout()\n",
      "C:\\Users\\Caio\\AppData\\Local\\Temp\\ipykernel_10728\\1871332523.py:40: UserWarning: Glyph 12531 (\\N{KATAKANA LETTER N}) missing from current font.\n",
      "  plt.tight_layout()\n",
      "C:\\Users\\Caio\\AppData\\Local\\Temp\\ipykernel_10728\\1871332523.py:40: UserWarning: Glyph 12450 (\\N{KATAKANA LETTER A}) missing from current font.\n",
      "  plt.tight_layout()\n",
      "C:\\Users\\Caio\\AppData\\Local\\Temp\\ipykernel_10728\\1871332523.py:40: UserWarning: Glyph 12490 (\\N{KATAKANA LETTER NA}) missing from current font.\n",
      "  plt.tight_layout()\n",
      "C:\\Users\\Caio\\AppData\\Local\\Temp\\ipykernel_10728\\1871332523.py:40: UserWarning: Glyph 12516 (\\N{KATAKANA LETTER YA}) missing from current font.\n",
      "  plt.tight_layout()\n",
      "C:\\Users\\Caio\\AppData\\Local\\Temp\\ipykernel_10728\\1871332523.py:40: UserWarning: Glyph 12465 (\\N{KATAKANA LETTER KE}) missing from current font.\n",
      "  plt.tight_layout()\n",
      "C:\\Users\\Caio\\AppData\\Local\\Temp\\ipykernel_10728\\1871332523.py:40: UserWarning: Glyph 12487 (\\N{KATAKANA LETTER DE}) missing from current font.\n",
      "  plt.tight_layout()\n",
      "C:\\Users\\Caio\\AppData\\Local\\Temp\\ipykernel_10728\\1871332523.py:40: UserWarning: Glyph 12451 (\\N{KATAKANA LETTER SMALL I}) missing from current font.\n",
      "  plt.tight_layout()\n",
      "C:\\Users\\Caio\\AppData\\Local\\Temp\\ipykernel_10728\\1871332523.py:40: UserWarning: Glyph 12475 (\\N{KATAKANA LETTER SE}) missing from current font.\n",
      "  plt.tight_layout()\n",
      "C:\\Users\\Caio\\AppData\\Local\\Temp\\ipykernel_10728\\1871332523.py:40: UserWarning: Glyph 12523 (\\N{KATAKANA LETTER RU}) missing from current font.\n",
      "  plt.tight_layout()\n",
      "C:\\Users\\Caio\\AppData\\Local\\Temp\\ipykernel_10728\\1871332523.py:40: UserWarning: Glyph 12501 (\\N{KATAKANA LETTER HU}) missing from current font.\n",
      "  plt.tight_layout()\n",
      "C:\\Users\\Caio\\AppData\\Local\\Temp\\ipykernel_10728\\1871332523.py:40: UserWarning: Glyph 12459 (\\N{KATAKANA LETTER KA}) missing from current font.\n",
      "  plt.tight_layout()\n",
      "C:\\Users\\Caio\\AppData\\Local\\Temp\\ipykernel_10728\\1871332523.py:40: UserWarning: Glyph 12456 (\\N{KATAKANA LETTER E}) missing from current font.\n",
      "  plt.tight_layout()\n",
      "C:\\Users\\Caio\\AppData\\Local\\Temp\\ipykernel_10728\\1871332523.py:40: UserWarning: Glyph 12472 (\\N{KATAKANA LETTER ZI}) missing from current font.\n",
      "  plt.tight_layout()\n",
      "C:\\Users\\Caio\\AppData\\Local\\Temp\\ipykernel_10728\\1871332523.py:40: UserWarning: Glyph 12455 (\\N{KATAKANA LETTER SMALL E}) missing from current font.\n",
      "  plt.tight_layout()\n",
      "C:\\Users\\Caio\\AppData\\Local\\Temp\\ipykernel_10728\\1871332523.py:40: UserWarning: Glyph 12495 (\\N{KATAKANA LETTER HA}) missing from current font.\n",
      "  plt.tight_layout()\n",
      "C:\\Users\\Caio\\AppData\\Local\\Temp\\ipykernel_10728\\1871332523.py:40: UserWarning: Glyph 12488 (\\N{KATAKANA LETTER TO}) missing from current font.\n",
      "  plt.tight_layout()\n",
      "C:\\Users\\Caio\\AppData\\Local\\Temp\\ipykernel_10728\\1871332523.py:40: UserWarning: Glyph 12532 (\\N{KATAKANA LETTER VU}) missing from current font.\n",
      "  plt.tight_layout()\n",
      "C:\\Users\\Caio\\AppData\\Local\\Temp\\ipykernel_10728\\1871332523.py:40: UserWarning: Glyph 12449 (\\N{KATAKANA LETTER SMALL A}) missing from current font.\n",
      "  plt.tight_layout()\n",
      "C:\\Users\\Caio\\AppData\\Local\\Temp\\ipykernel_10728\\1871332523.py:40: UserWarning: Glyph 12471 (\\N{KATAKANA LETTER SI}) missing from current font.\n",
      "  plt.tight_layout()\n",
      "C:\\Users\\Caio\\AppData\\Local\\Temp\\ipykernel_10728\\1871332523.py:40: UserWarning: Glyph 12522 (\\N{KATAKANA LETTER RI}) missing from current font.\n",
      "  plt.tight_layout()\n",
      "C:\\Users\\Caio\\AppData\\Local\\Temp\\ipykernel_10728\\1871332523.py:40: UserWarning: Glyph 39321 (\\N{CJK UNIFIED IDEOGRAPH-9999}) missing from current font.\n",
      "  plt.tight_layout()\n",
      "C:\\Users\\Caio\\AppData\\Local\\Temp\\ipykernel_10728\\1871332523.py:40: UserWarning: Glyph 24425 (\\N{CJK UNIFIED IDEOGRAPH-5F69}) missing from current font.\n",
      "  plt.tight_layout()\n",
      "C:\\Users\\Caio\\AppData\\Local\\Temp\\ipykernel_10728\\1871332523.py:40: UserWarning: Glyph 12463 (\\N{KATAKANA LETTER KU}) missing from current font.\n",
      "  plt.tight_layout()\n",
      "C:\\Users\\Caio\\AppData\\Local\\Temp\\ipykernel_10728\\1871332523.py:40: UserWarning: Glyph 12520 (\\N{KATAKANA LETTER YO}) missing from current font.\n",
      "  plt.tight_layout()\n",
      "C:\\Users\\Caio\\AppData\\Local\\Temp\\ipykernel_10728\\1871332523.py:40: UserWarning: Glyph 12483 (\\N{KATAKANA LETTER SMALL TU}) missing from current font.\n",
      "  plt.tight_layout()\n",
      "C:\\Users\\Caio\\AppData\\Local\\Temp\\ipykernel_10728\\1871332523.py:40: UserWarning: Glyph 12486 (\\N{KATAKANA LETTER TE}) missing from current font.\n",
      "  plt.tight_layout()\n",
      "C:\\Users\\Caio\\AppData\\Local\\Temp\\ipykernel_10728\\1871332523.py:40: UserWarning: Glyph 12458 (\\N{KATAKANA LETTER O}) missing from current font.\n",
      "  plt.tight_layout()\n",
      "C:\\Users\\Caio\\AppData\\Local\\Temp\\ipykernel_10728\\1871332523.py:40: UserWarning: Glyph 12524 (\\N{KATAKANA LETTER RE}) missing from current font.\n",
      "  plt.tight_layout()\n",
      "C:\\Users\\Caio\\AppData\\Local\\Temp\\ipykernel_10728\\1871332523.py:40: UserWarning: Glyph 12467 (\\N{KATAKANA LETTER KO}) missing from current font.\n",
      "  plt.tight_layout()\n",
      "C:\\Users\\Caio\\AppData\\Local\\Temp\\ipykernel_10728\\1871332523.py:40: UserWarning: Glyph 12529 (\\N{KATAKANA LETTER WE}) missing from current font.\n",
      "  plt.tight_layout()\n",
      "C:\\Users\\Caio\\AppData\\Local\\Temp\\ipykernel_10728\\1871332523.py:40: UserWarning: Glyph 12514 (\\N{KATAKANA LETTER MO}) missing from current font.\n",
      "  plt.tight_layout()\n",
      "C:\\Users\\Caio\\AppData\\Local\\Temp\\ipykernel_10728\\1871332523.py:40: UserWarning: Glyph 12473 (\\N{KATAKANA LETTER SU}) missing from current font.\n",
      "  plt.tight_layout()\n",
      "C:\\Users\\Caio\\AppData\\Local\\Temp\\ipykernel_10728\\1871332523.py:40: UserWarning: Glyph 12497 (\\N{KATAKANA LETTER PA}) missing from current font.\n",
      "  plt.tight_layout()\n",
      "C:\\Users\\Caio\\AppData\\Local\\Temp\\ipykernel_10728\\1871332523.py:40: UserWarning: Glyph 12515 (\\N{KATAKANA LETTER SMALL YA}) missing from current font.\n",
      "  plt.tight_layout()\n",
      "C:\\Users\\Caio\\AppData\\Local\\Temp\\ipykernel_10728\\1871332523.py:40: UserWarning: Glyph 12508 (\\N{KATAKANA LETTER BO}) missing from current font.\n",
      "  plt.tight_layout()\n",
      "C:\\Users\\Caio\\AppData\\Local\\Temp\\ipykernel_10728\\1871332523.py:40: UserWarning: Glyph 12489 (\\N{KATAKANA LETTER DO}) missing from current font.\n",
      "  plt.tight_layout()\n",
      "C:\\Users\\Caio\\AppData\\Local\\Temp\\ipykernel_10728\\1871332523.py:40: UserWarning: Glyph 12502 (\\N{KATAKANA LETTER BU}) missing from current font.\n",
      "  plt.tight_layout()\n",
      "C:\\Users\\Caio\\AppData\\Local\\Temp\\ipykernel_10728\\1871332523.py:40: UserWarning: Glyph 12509 (\\N{KATAKANA LETTER PO}) missing from current font.\n",
      "  plt.tight_layout()\n",
      "C:\\Users\\Caio\\AppData\\Local\\Temp\\ipykernel_10728\\1871332523.py:40: UserWarning: Glyph 12494 (\\N{KATAKANA LETTER NO}) missing from current font.\n",
      "  plt.tight_layout()\n",
      "C:\\Users\\Caio\\AppData\\Local\\Temp\\ipykernel_10728\\1871332523.py:40: UserWarning: Glyph 12499 (\\N{KATAKANA LETTER BI}) missing from current font.\n",
      "  plt.tight_layout()\n",
      "C:\\Users\\Caio\\AppData\\Local\\Temp\\ipykernel_10728\\1871332523.py:40: UserWarning: Glyph 2340 (\\N{DEVANAGARI LETTER TA}) missing from current font.\n",
      "  plt.tight_layout()\n",
      "C:\\Users\\Caio\\AppData\\Local\\Temp\\ipykernel_10728\\1871332523.py:40: UserWarning: Matplotlib currently does not support Devanagari natively.\n",
      "  plt.tight_layout()\n",
      "C:\\Users\\Caio\\AppData\\Local\\Temp\\ipykernel_10728\\1871332523.py:40: UserWarning: Glyph 12464 (\\N{KATAKANA LETTER GU}) missing from current font.\n",
      "  plt.tight_layout()\n",
      "C:\\Users\\Caio\\AppData\\Local\\Temp\\ipykernel_10728\\1871332523.py:40: UserWarning: Glyph 12525 (\\N{KATAKANA LETTER RO}) missing from current font.\n",
      "  plt.tight_layout()\n",
      "C:\\Users\\Caio\\AppData\\Local\\Temp\\ipykernel_10728\\1871332523.py:40: UserWarning: Glyph 65381 (\\N{HALFWIDTH KATAKANA MIDDLE DOT}) missing from current font.\n",
      "  plt.tight_layout()\n",
      "C:\\Users\\Caio\\AppData\\Local\\Temp\\ipykernel_10728\\1871332523.py:40: UserWarning: Glyph 12457 (\\N{KATAKANA LETTER SMALL O}) missing from current font.\n",
      "  plt.tight_layout()\n",
      "C:\\Users\\Caio\\AppData\\Local\\Temp\\ipykernel_10728\\1871332523.py:40: UserWarning: Glyph 12474 (\\N{KATAKANA LETTER ZU}) missing from current font.\n",
      "  plt.tight_layout()\n",
      "C:\\Users\\Caio\\AppData\\Local\\Temp\\ipykernel_10728\\1871332523.py:40: UserWarning: Glyph 12462 (\\N{KATAKANA LETTER GI}) missing from current font.\n",
      "  plt.tight_layout()\n",
      "C:\\Users\\Caio\\AppData\\Local\\Temp\\ipykernel_10728\\1871332523.py:40: UserWarning: Glyph 12484 (\\N{KATAKANA LETTER TU}) missing from current font.\n",
      "  plt.tight_layout()\n",
      "C:\\Users\\Caio\\AppData\\Local\\Temp\\ipykernel_10728\\1871332523.py:40: UserWarning: Glyph 12480 (\\N{KATAKANA LETTER DA}) missing from current font.\n",
      "  plt.tight_layout()\n",
      "C:\\Users\\Caio\\AppData\\Local\\Temp\\ipykernel_10728\\1871332523.py:40: UserWarning: Glyph 12539 (\\N{KATAKANA MIDDLE DOT}) missing from current font.\n",
      "  plt.tight_layout()\n"
     ]
    },
    {
     "ename": "KeyboardInterrupt",
     "evalue": "",
     "output_type": "error",
     "traceback": [
      "\u001b[1;31m---------------------------------------------------------------------------\u001b[0m",
      "\u001b[1;31mKeyboardInterrupt\u001b[0m                         Traceback (most recent call last)",
      "Cell \u001b[1;32mIn[3], line 40\u001b[0m\n\u001b[0;32m     37\u001b[0m sns\u001b[38;5;241m.\u001b[39mcountplot(data\u001b[38;5;241m=\u001b[39mparfum, y\u001b[38;5;241m=\u001b[39m\u001b[38;5;124m'\u001b[39m\u001b[38;5;124mMain_Accords\u001b[39m\u001b[38;5;124m'\u001b[39m, order\u001b[38;5;241m=\u001b[39mparfum[\u001b[38;5;124m'\u001b[39m\u001b[38;5;124mMain_Accords\u001b[39m\u001b[38;5;124m'\u001b[39m]\u001b[38;5;241m.\u001b[39mvalue_counts()\u001b[38;5;241m.\u001b[39mindex)\n\u001b[0;32m     38\u001b[0m plt\u001b[38;5;241m.\u001b[39mtitle(\u001b[38;5;124m'\u001b[39m\u001b[38;5;124mDistribuição dos Principais Acordes\u001b[39m\u001b[38;5;124m'\u001b[39m)\n\u001b[1;32m---> 40\u001b[0m plt\u001b[38;5;241m.\u001b[39mtight_layout()\n\u001b[0;32m     41\u001b[0m plt\u001b[38;5;241m.\u001b[39mshow()\n\u001b[0;32m     43\u001b[0m \u001b[38;5;66;03m# Correlação entre variáveis numéricas (Rating_Value, Rating_Count, Release_Year)\u001b[39;00m\n",
      "File \u001b[1;32mc:\\Users\\Caio\\anaconda3\\Lib\\site-packages\\matplotlib\\pyplot.py:2349\u001b[0m, in \u001b[0;36mtight_layout\u001b[1;34m(pad, h_pad, w_pad, rect)\u001b[0m\n\u001b[0;32m   2347\u001b[0m \u001b[38;5;129m@_copy_docstring_and_deprecators\u001b[39m(Figure\u001b[38;5;241m.\u001b[39mtight_layout)\n\u001b[0;32m   2348\u001b[0m \u001b[38;5;28;01mdef\u001b[39;00m \u001b[38;5;21mtight_layout\u001b[39m(\u001b[38;5;241m*\u001b[39m, pad\u001b[38;5;241m=\u001b[39m\u001b[38;5;241m1.08\u001b[39m, h_pad\u001b[38;5;241m=\u001b[39m\u001b[38;5;28;01mNone\u001b[39;00m, w_pad\u001b[38;5;241m=\u001b[39m\u001b[38;5;28;01mNone\u001b[39;00m, rect\u001b[38;5;241m=\u001b[39m\u001b[38;5;28;01mNone\u001b[39;00m):\n\u001b[1;32m-> 2349\u001b[0m     \u001b[38;5;28;01mreturn\u001b[39;00m gcf()\u001b[38;5;241m.\u001b[39mtight_layout(pad\u001b[38;5;241m=\u001b[39mpad, h_pad\u001b[38;5;241m=\u001b[39mh_pad, w_pad\u001b[38;5;241m=\u001b[39mw_pad, rect\u001b[38;5;241m=\u001b[39mrect)\n",
      "File \u001b[1;32mc:\\Users\\Caio\\anaconda3\\Lib\\site-packages\\matplotlib\\figure.py:3509\u001b[0m, in \u001b[0;36mFigure.tight_layout\u001b[1;34m(self, pad, h_pad, w_pad, rect)\u001b[0m\n\u001b[0;32m   3507\u001b[0m previous_engine \u001b[38;5;241m=\u001b[39m \u001b[38;5;28mself\u001b[39m\u001b[38;5;241m.\u001b[39mget_layout_engine()\n\u001b[0;32m   3508\u001b[0m \u001b[38;5;28mself\u001b[39m\u001b[38;5;241m.\u001b[39mset_layout_engine(engine)\n\u001b[1;32m-> 3509\u001b[0m engine\u001b[38;5;241m.\u001b[39mexecute(\u001b[38;5;28mself\u001b[39m)\n\u001b[0;32m   3510\u001b[0m \u001b[38;5;28;01mif\u001b[39;00m \u001b[38;5;129;01mnot\u001b[39;00m \u001b[38;5;28misinstance\u001b[39m(previous_engine, TightLayoutEngine) \\\n\u001b[0;32m   3511\u001b[0m         \u001b[38;5;129;01mand\u001b[39;00m previous_engine \u001b[38;5;129;01mis\u001b[39;00m \u001b[38;5;129;01mnot\u001b[39;00m \u001b[38;5;28;01mNone\u001b[39;00m:\n\u001b[0;32m   3512\u001b[0m     _api\u001b[38;5;241m.\u001b[39mwarn_external(\u001b[38;5;124m'\u001b[39m\u001b[38;5;124mThe figure layout has changed to tight\u001b[39m\u001b[38;5;124m'\u001b[39m)\n",
      "File \u001b[1;32mc:\\Users\\Caio\\anaconda3\\Lib\\site-packages\\matplotlib\\layout_engine.py:178\u001b[0m, in \u001b[0;36mTightLayoutEngine.execute\u001b[1;34m(self, fig)\u001b[0m\n\u001b[0;32m    176\u001b[0m renderer \u001b[38;5;241m=\u001b[39m fig\u001b[38;5;241m.\u001b[39m_get_renderer()\n\u001b[0;32m    177\u001b[0m \u001b[38;5;28;01mwith\u001b[39;00m \u001b[38;5;28mgetattr\u001b[39m(renderer, \u001b[38;5;124m\"\u001b[39m\u001b[38;5;124m_draw_disabled\u001b[39m\u001b[38;5;124m\"\u001b[39m, nullcontext)():\n\u001b[1;32m--> 178\u001b[0m     kwargs \u001b[38;5;241m=\u001b[39m get_tight_layout_figure(\n\u001b[0;32m    179\u001b[0m         fig, fig\u001b[38;5;241m.\u001b[39maxes, get_subplotspec_list(fig\u001b[38;5;241m.\u001b[39maxes), renderer,\n\u001b[0;32m    180\u001b[0m         pad\u001b[38;5;241m=\u001b[39minfo[\u001b[38;5;124m'\u001b[39m\u001b[38;5;124mpad\u001b[39m\u001b[38;5;124m'\u001b[39m], h_pad\u001b[38;5;241m=\u001b[39minfo[\u001b[38;5;124m'\u001b[39m\u001b[38;5;124mh_pad\u001b[39m\u001b[38;5;124m'\u001b[39m], w_pad\u001b[38;5;241m=\u001b[39minfo[\u001b[38;5;124m'\u001b[39m\u001b[38;5;124mw_pad\u001b[39m\u001b[38;5;124m'\u001b[39m],\n\u001b[0;32m    181\u001b[0m         rect\u001b[38;5;241m=\u001b[39minfo[\u001b[38;5;124m'\u001b[39m\u001b[38;5;124mrect\u001b[39m\u001b[38;5;124m'\u001b[39m])\n\u001b[0;32m    182\u001b[0m \u001b[38;5;28;01mif\u001b[39;00m kwargs:\n\u001b[0;32m    183\u001b[0m     fig\u001b[38;5;241m.\u001b[39msubplots_adjust(\u001b[38;5;241m*\u001b[39m\u001b[38;5;241m*\u001b[39mkwargs)\n",
      "File \u001b[1;32mc:\\Users\\Caio\\anaconda3\\Lib\\site-packages\\matplotlib\\_tight_layout.py:266\u001b[0m, in \u001b[0;36mget_tight_layout_figure\u001b[1;34m(fig, axes_list, subplotspec_list, renderer, pad, h_pad, w_pad, rect)\u001b[0m\n\u001b[0;32m    261\u001b[0m         \u001b[38;5;28;01mreturn\u001b[39;00m {}\n\u001b[0;32m    262\u001b[0m     span_pairs\u001b[38;5;241m.\u001b[39mappend((\n\u001b[0;32m    263\u001b[0m         \u001b[38;5;28mslice\u001b[39m(ss\u001b[38;5;241m.\u001b[39mrowspan\u001b[38;5;241m.\u001b[39mstart \u001b[38;5;241m*\u001b[39m div_row, ss\u001b[38;5;241m.\u001b[39mrowspan\u001b[38;5;241m.\u001b[39mstop \u001b[38;5;241m*\u001b[39m div_row),\n\u001b[0;32m    264\u001b[0m         \u001b[38;5;28mslice\u001b[39m(ss\u001b[38;5;241m.\u001b[39mcolspan\u001b[38;5;241m.\u001b[39mstart \u001b[38;5;241m*\u001b[39m div_col, ss\u001b[38;5;241m.\u001b[39mcolspan\u001b[38;5;241m.\u001b[39mstop \u001b[38;5;241m*\u001b[39m div_col)))\n\u001b[1;32m--> 266\u001b[0m kwargs \u001b[38;5;241m=\u001b[39m _auto_adjust_subplotpars(fig, renderer,\n\u001b[0;32m    267\u001b[0m                                   shape\u001b[38;5;241m=\u001b[39m(max_nrows, max_ncols),\n\u001b[0;32m    268\u001b[0m                                   span_pairs\u001b[38;5;241m=\u001b[39mspan_pairs,\n\u001b[0;32m    269\u001b[0m                                   subplot_list\u001b[38;5;241m=\u001b[39msubplot_list,\n\u001b[0;32m    270\u001b[0m                                   ax_bbox_list\u001b[38;5;241m=\u001b[39max_bbox_list,\n\u001b[0;32m    271\u001b[0m                                   pad\u001b[38;5;241m=\u001b[39mpad, h_pad\u001b[38;5;241m=\u001b[39mh_pad, w_pad\u001b[38;5;241m=\u001b[39mw_pad)\n\u001b[0;32m    273\u001b[0m \u001b[38;5;66;03m# kwargs can be none if tight_layout fails...\u001b[39;00m\n\u001b[0;32m    274\u001b[0m \u001b[38;5;28;01mif\u001b[39;00m rect \u001b[38;5;129;01mis\u001b[39;00m \u001b[38;5;129;01mnot\u001b[39;00m \u001b[38;5;28;01mNone\u001b[39;00m \u001b[38;5;129;01mand\u001b[39;00m kwargs \u001b[38;5;129;01mis\u001b[39;00m \u001b[38;5;129;01mnot\u001b[39;00m \u001b[38;5;28;01mNone\u001b[39;00m:\n\u001b[0;32m    275\u001b[0m     \u001b[38;5;66;03m# if rect is given, the whole subplots area (including\u001b[39;00m\n\u001b[0;32m    276\u001b[0m     \u001b[38;5;66;03m# labels) will fit into the rect instead of the\u001b[39;00m\n\u001b[1;32m   (...)\u001b[0m\n\u001b[0;32m    280\u001b[0m     \u001b[38;5;66;03m# auto_adjust_subplotpars twice, where the second run\u001b[39;00m\n\u001b[0;32m    281\u001b[0m     \u001b[38;5;66;03m# with adjusted rect parameters.\u001b[39;00m\n",
      "File \u001b[1;32mc:\\Users\\Caio\\anaconda3\\Lib\\site-packages\\matplotlib\\_tight_layout.py:82\u001b[0m, in \u001b[0;36m_auto_adjust_subplotpars\u001b[1;34m(fig, renderer, shape, span_pairs, subplot_list, ax_bbox_list, pad, h_pad, w_pad, rect)\u001b[0m\n\u001b[0;32m     80\u001b[0m \u001b[38;5;28;01mfor\u001b[39;00m ax \u001b[38;5;129;01min\u001b[39;00m subplots:\n\u001b[0;32m     81\u001b[0m     \u001b[38;5;28;01mif\u001b[39;00m ax\u001b[38;5;241m.\u001b[39mget_visible():\n\u001b[1;32m---> 82\u001b[0m         bb \u001b[38;5;241m+\u001b[39m\u001b[38;5;241m=\u001b[39m [martist\u001b[38;5;241m.\u001b[39m_get_tightbbox_for_layout_only(ax, renderer)]\n\u001b[0;32m     84\u001b[0m tight_bbox_raw \u001b[38;5;241m=\u001b[39m Bbox\u001b[38;5;241m.\u001b[39munion(bb)\n\u001b[0;32m     85\u001b[0m tight_bbox \u001b[38;5;241m=\u001b[39m fig\u001b[38;5;241m.\u001b[39mtransFigure\u001b[38;5;241m.\u001b[39minverted()\u001b[38;5;241m.\u001b[39mtransform_bbox(tight_bbox_raw)\n",
      "File \u001b[1;32mc:\\Users\\Caio\\anaconda3\\Lib\\site-packages\\matplotlib\\artist.py:1415\u001b[0m, in \u001b[0;36m_get_tightbbox_for_layout_only\u001b[1;34m(obj, *args, **kwargs)\u001b[0m\n\u001b[0;32m   1409\u001b[0m \u001b[38;5;250m\u001b[39m\u001b[38;5;124;03m\"\"\"\u001b[39;00m\n\u001b[0;32m   1410\u001b[0m \u001b[38;5;124;03mMatplotlib's `.Axes.get_tightbbox` and `.Axis.get_tightbbox` support a\u001b[39;00m\n\u001b[0;32m   1411\u001b[0m \u001b[38;5;124;03m*for_layout_only* kwarg; this helper tries to use the kwarg but skips it\u001b[39;00m\n\u001b[0;32m   1412\u001b[0m \u001b[38;5;124;03mwhen encountering third-party subclasses that do not support it.\u001b[39;00m\n\u001b[0;32m   1413\u001b[0m \u001b[38;5;124;03m\"\"\"\u001b[39;00m\n\u001b[0;32m   1414\u001b[0m \u001b[38;5;28;01mtry\u001b[39;00m:\n\u001b[1;32m-> 1415\u001b[0m     \u001b[38;5;28;01mreturn\u001b[39;00m obj\u001b[38;5;241m.\u001b[39mget_tightbbox(\u001b[38;5;241m*\u001b[39margs, \u001b[38;5;241m*\u001b[39m\u001b[38;5;241m*\u001b[39m{\u001b[38;5;241m*\u001b[39m\u001b[38;5;241m*\u001b[39mkwargs, \u001b[38;5;124m\"\u001b[39m\u001b[38;5;124mfor_layout_only\u001b[39m\u001b[38;5;124m\"\u001b[39m: \u001b[38;5;28;01mTrue\u001b[39;00m})\n\u001b[0;32m   1416\u001b[0m \u001b[38;5;28;01mexcept\u001b[39;00m \u001b[38;5;167;01mTypeError\u001b[39;00m:\n\u001b[0;32m   1417\u001b[0m     \u001b[38;5;28;01mreturn\u001b[39;00m obj\u001b[38;5;241m.\u001b[39mget_tightbbox(\u001b[38;5;241m*\u001b[39margs, \u001b[38;5;241m*\u001b[39m\u001b[38;5;241m*\u001b[39mkwargs)\n",
      "File \u001b[1;32mc:\\Users\\Caio\\anaconda3\\Lib\\site-packages\\matplotlib\\axes\\_base.py:4385\u001b[0m, in \u001b[0;36m_AxesBase.get_tightbbox\u001b[1;34m(self, renderer, call_axes_locator, bbox_extra_artists, for_layout_only)\u001b[0m\n\u001b[0;32m   4383\u001b[0m \u001b[38;5;28;01mfor\u001b[39;00m axis \u001b[38;5;129;01min\u001b[39;00m \u001b[38;5;28mself\u001b[39m\u001b[38;5;241m.\u001b[39m_axis_map\u001b[38;5;241m.\u001b[39mvalues():\n\u001b[0;32m   4384\u001b[0m     \u001b[38;5;28;01mif\u001b[39;00m \u001b[38;5;28mself\u001b[39m\u001b[38;5;241m.\u001b[39maxison \u001b[38;5;129;01mand\u001b[39;00m axis\u001b[38;5;241m.\u001b[39mget_visible():\n\u001b[1;32m-> 4385\u001b[0m         ba \u001b[38;5;241m=\u001b[39m martist\u001b[38;5;241m.\u001b[39m_get_tightbbox_for_layout_only(axis, renderer)\n\u001b[0;32m   4386\u001b[0m         \u001b[38;5;28;01mif\u001b[39;00m ba:\n\u001b[0;32m   4387\u001b[0m             bb\u001b[38;5;241m.\u001b[39mappend(ba)\n",
      "File \u001b[1;32mc:\\Users\\Caio\\anaconda3\\Lib\\site-packages\\matplotlib\\artist.py:1415\u001b[0m, in \u001b[0;36m_get_tightbbox_for_layout_only\u001b[1;34m(obj, *args, **kwargs)\u001b[0m\n\u001b[0;32m   1409\u001b[0m \u001b[38;5;250m\u001b[39m\u001b[38;5;124;03m\"\"\"\u001b[39;00m\n\u001b[0;32m   1410\u001b[0m \u001b[38;5;124;03mMatplotlib's `.Axes.get_tightbbox` and `.Axis.get_tightbbox` support a\u001b[39;00m\n\u001b[0;32m   1411\u001b[0m \u001b[38;5;124;03m*for_layout_only* kwarg; this helper tries to use the kwarg but skips it\u001b[39;00m\n\u001b[0;32m   1412\u001b[0m \u001b[38;5;124;03mwhen encountering third-party subclasses that do not support it.\u001b[39;00m\n\u001b[0;32m   1413\u001b[0m \u001b[38;5;124;03m\"\"\"\u001b[39;00m\n\u001b[0;32m   1414\u001b[0m \u001b[38;5;28;01mtry\u001b[39;00m:\n\u001b[1;32m-> 1415\u001b[0m     \u001b[38;5;28;01mreturn\u001b[39;00m obj\u001b[38;5;241m.\u001b[39mget_tightbbox(\u001b[38;5;241m*\u001b[39margs, \u001b[38;5;241m*\u001b[39m\u001b[38;5;241m*\u001b[39m{\u001b[38;5;241m*\u001b[39m\u001b[38;5;241m*\u001b[39mkwargs, \u001b[38;5;124m\"\u001b[39m\u001b[38;5;124mfor_layout_only\u001b[39m\u001b[38;5;124m\"\u001b[39m: \u001b[38;5;28;01mTrue\u001b[39;00m})\n\u001b[0;32m   1416\u001b[0m \u001b[38;5;28;01mexcept\u001b[39;00m \u001b[38;5;167;01mTypeError\u001b[39;00m:\n\u001b[0;32m   1417\u001b[0m     \u001b[38;5;28;01mreturn\u001b[39;00m obj\u001b[38;5;241m.\u001b[39mget_tightbbox(\u001b[38;5;241m*\u001b[39margs, \u001b[38;5;241m*\u001b[39m\u001b[38;5;241m*\u001b[39mkwargs)\n",
      "File \u001b[1;32mc:\\Users\\Caio\\anaconda3\\Lib\\site-packages\\matplotlib\\axis.py:1328\u001b[0m, in \u001b[0;36mAxis.get_tightbbox\u001b[1;34m(self, renderer, for_layout_only)\u001b[0m\n\u001b[0;32m   1325\u001b[0m \u001b[38;5;28mself\u001b[39m\u001b[38;5;241m.\u001b[39m_update_label_position(renderer)\n\u001b[0;32m   1327\u001b[0m \u001b[38;5;66;03m# go back to just this axis's tick labels\u001b[39;00m\n\u001b[1;32m-> 1328\u001b[0m tlb1, tlb2 \u001b[38;5;241m=\u001b[39m \u001b[38;5;28mself\u001b[39m\u001b[38;5;241m.\u001b[39m_get_ticklabel_bboxes(ticks_to_draw, renderer)\n\u001b[0;32m   1330\u001b[0m \u001b[38;5;28mself\u001b[39m\u001b[38;5;241m.\u001b[39m_update_offset_text_position(tlb1, tlb2)\n\u001b[0;32m   1331\u001b[0m \u001b[38;5;28mself\u001b[39m\u001b[38;5;241m.\u001b[39moffsetText\u001b[38;5;241m.\u001b[39mset_text(\u001b[38;5;28mself\u001b[39m\u001b[38;5;241m.\u001b[39mmajor\u001b[38;5;241m.\u001b[39mformatter\u001b[38;5;241m.\u001b[39mget_offset())\n",
      "File \u001b[1;32mc:\\Users\\Caio\\anaconda3\\Lib\\site-packages\\matplotlib\\axis.py:1304\u001b[0m, in \u001b[0;36mAxis._get_ticklabel_bboxes\u001b[1;34m(self, ticks, renderer)\u001b[0m\n\u001b[0;32m   1302\u001b[0m \u001b[38;5;28;01mif\u001b[39;00m renderer \u001b[38;5;129;01mis\u001b[39;00m \u001b[38;5;28;01mNone\u001b[39;00m:\n\u001b[0;32m   1303\u001b[0m     renderer \u001b[38;5;241m=\u001b[39m \u001b[38;5;28mself\u001b[39m\u001b[38;5;241m.\u001b[39mfigure\u001b[38;5;241m.\u001b[39m_get_renderer()\n\u001b[1;32m-> 1304\u001b[0m \u001b[38;5;28;01mreturn\u001b[39;00m ([tick\u001b[38;5;241m.\u001b[39mlabel1\u001b[38;5;241m.\u001b[39mget_window_extent(renderer)\n\u001b[0;32m   1305\u001b[0m          \u001b[38;5;28;01mfor\u001b[39;00m tick \u001b[38;5;129;01min\u001b[39;00m ticks \u001b[38;5;28;01mif\u001b[39;00m tick\u001b[38;5;241m.\u001b[39mlabel1\u001b[38;5;241m.\u001b[39mget_visible()],\n\u001b[0;32m   1306\u001b[0m         [tick\u001b[38;5;241m.\u001b[39mlabel2\u001b[38;5;241m.\u001b[39mget_window_extent(renderer)\n\u001b[0;32m   1307\u001b[0m          \u001b[38;5;28;01mfor\u001b[39;00m tick \u001b[38;5;129;01min\u001b[39;00m ticks \u001b[38;5;28;01mif\u001b[39;00m tick\u001b[38;5;241m.\u001b[39mlabel2\u001b[38;5;241m.\u001b[39mget_visible()])\n",
      "File \u001b[1;32mc:\\Users\\Caio\\anaconda3\\Lib\\site-packages\\matplotlib\\axis.py:1304\u001b[0m, in \u001b[0;36m<listcomp>\u001b[1;34m(.0)\u001b[0m\n\u001b[0;32m   1302\u001b[0m \u001b[38;5;28;01mif\u001b[39;00m renderer \u001b[38;5;129;01mis\u001b[39;00m \u001b[38;5;28;01mNone\u001b[39;00m:\n\u001b[0;32m   1303\u001b[0m     renderer \u001b[38;5;241m=\u001b[39m \u001b[38;5;28mself\u001b[39m\u001b[38;5;241m.\u001b[39mfigure\u001b[38;5;241m.\u001b[39m_get_renderer()\n\u001b[1;32m-> 1304\u001b[0m \u001b[38;5;28;01mreturn\u001b[39;00m ([tick\u001b[38;5;241m.\u001b[39mlabel1\u001b[38;5;241m.\u001b[39mget_window_extent(renderer)\n\u001b[0;32m   1305\u001b[0m          \u001b[38;5;28;01mfor\u001b[39;00m tick \u001b[38;5;129;01min\u001b[39;00m ticks \u001b[38;5;28;01mif\u001b[39;00m tick\u001b[38;5;241m.\u001b[39mlabel1\u001b[38;5;241m.\u001b[39mget_visible()],\n\u001b[0;32m   1306\u001b[0m         [tick\u001b[38;5;241m.\u001b[39mlabel2\u001b[38;5;241m.\u001b[39mget_window_extent(renderer)\n\u001b[0;32m   1307\u001b[0m          \u001b[38;5;28;01mfor\u001b[39;00m tick \u001b[38;5;129;01min\u001b[39;00m ticks \u001b[38;5;28;01mif\u001b[39;00m tick\u001b[38;5;241m.\u001b[39mlabel2\u001b[38;5;241m.\u001b[39mget_visible()])\n",
      "File \u001b[1;32mc:\\Users\\Caio\\anaconda3\\Lib\\site-packages\\matplotlib\\text.py:959\u001b[0m, in \u001b[0;36mText.get_window_extent\u001b[1;34m(self, renderer, dpi)\u001b[0m\n\u001b[0;32m    954\u001b[0m     \u001b[38;5;28;01mraise\u001b[39;00m \u001b[38;5;167;01mRuntimeError\u001b[39;00m(\n\u001b[0;32m    955\u001b[0m         \u001b[38;5;124m\"\u001b[39m\u001b[38;5;124mCannot get window extent of text w/o renderer. You likely \u001b[39m\u001b[38;5;124m\"\u001b[39m\n\u001b[0;32m    956\u001b[0m         \u001b[38;5;124m\"\u001b[39m\u001b[38;5;124mwant to call \u001b[39m\u001b[38;5;124m'\u001b[39m\u001b[38;5;124mfigure.draw_without_rendering()\u001b[39m\u001b[38;5;124m'\u001b[39m\u001b[38;5;124m first.\u001b[39m\u001b[38;5;124m\"\u001b[39m)\n\u001b[0;32m    958\u001b[0m \u001b[38;5;28;01mwith\u001b[39;00m cbook\u001b[38;5;241m.\u001b[39m_setattr_cm(\u001b[38;5;28mself\u001b[39m\u001b[38;5;241m.\u001b[39mfigure, dpi\u001b[38;5;241m=\u001b[39mdpi):\n\u001b[1;32m--> 959\u001b[0m     bbox, info, descent \u001b[38;5;241m=\u001b[39m \u001b[38;5;28mself\u001b[39m\u001b[38;5;241m.\u001b[39m_get_layout(\u001b[38;5;28mself\u001b[39m\u001b[38;5;241m.\u001b[39m_renderer)\n\u001b[0;32m    960\u001b[0m     x, y \u001b[38;5;241m=\u001b[39m \u001b[38;5;28mself\u001b[39m\u001b[38;5;241m.\u001b[39mget_unitless_position()\n\u001b[0;32m    961\u001b[0m     x, y \u001b[38;5;241m=\u001b[39m \u001b[38;5;28mself\u001b[39m\u001b[38;5;241m.\u001b[39mget_transform()\u001b[38;5;241m.\u001b[39mtransform((x, y))\n",
      "File \u001b[1;32mc:\\Users\\Caio\\anaconda3\\Lib\\site-packages\\matplotlib\\text.py:386\u001b[0m, in \u001b[0;36mText._get_layout\u001b[1;34m(self, renderer)\u001b[0m\n\u001b[0;32m    384\u001b[0m clean_line, ismath \u001b[38;5;241m=\u001b[39m \u001b[38;5;28mself\u001b[39m\u001b[38;5;241m.\u001b[39m_preprocess_math(line)\n\u001b[0;32m    385\u001b[0m \u001b[38;5;28;01mif\u001b[39;00m clean_line:\n\u001b[1;32m--> 386\u001b[0m     w, h, d \u001b[38;5;241m=\u001b[39m _get_text_metrics_with_cache(\n\u001b[0;32m    387\u001b[0m         renderer, clean_line, \u001b[38;5;28mself\u001b[39m\u001b[38;5;241m.\u001b[39m_fontproperties,\n\u001b[0;32m    388\u001b[0m         ismath\u001b[38;5;241m=\u001b[39mismath, dpi\u001b[38;5;241m=\u001b[39m\u001b[38;5;28mself\u001b[39m\u001b[38;5;241m.\u001b[39mfigure\u001b[38;5;241m.\u001b[39mdpi)\n\u001b[0;32m    389\u001b[0m \u001b[38;5;28;01melse\u001b[39;00m:\n\u001b[0;32m    390\u001b[0m     w \u001b[38;5;241m=\u001b[39m h \u001b[38;5;241m=\u001b[39m d \u001b[38;5;241m=\u001b[39m \u001b[38;5;241m0\u001b[39m\n",
      "File \u001b[1;32mc:\\Users\\Caio\\anaconda3\\Lib\\site-packages\\matplotlib\\text.py:97\u001b[0m, in \u001b[0;36m_get_text_metrics_with_cache\u001b[1;34m(renderer, text, fontprop, ismath, dpi)\u001b[0m\n\u001b[0;32m     94\u001b[0m \u001b[38;5;250m\u001b[39m\u001b[38;5;124;03m\"\"\"Call ``renderer.get_text_width_height_descent``, caching the results.\"\"\"\u001b[39;00m\n\u001b[0;32m     95\u001b[0m \u001b[38;5;66;03m# Cached based on a copy of fontprop so that later in-place mutations of\u001b[39;00m\n\u001b[0;32m     96\u001b[0m \u001b[38;5;66;03m# the passed-in argument do not mess up the cache.\u001b[39;00m\n\u001b[1;32m---> 97\u001b[0m \u001b[38;5;28;01mreturn\u001b[39;00m _get_text_metrics_with_cache_impl(\n\u001b[0;32m     98\u001b[0m     weakref\u001b[38;5;241m.\u001b[39mref(renderer), text, fontprop\u001b[38;5;241m.\u001b[39mcopy(), ismath, dpi)\n",
      "File \u001b[1;32mc:\\Users\\Caio\\anaconda3\\Lib\\site-packages\\matplotlib\\text.py:105\u001b[0m, in \u001b[0;36m_get_text_metrics_with_cache_impl\u001b[1;34m(renderer_ref, text, fontprop, ismath, dpi)\u001b[0m\n\u001b[0;32m    101\u001b[0m \u001b[38;5;129m@functools\u001b[39m\u001b[38;5;241m.\u001b[39mlru_cache(\u001b[38;5;241m4096\u001b[39m)\n\u001b[0;32m    102\u001b[0m \u001b[38;5;28;01mdef\u001b[39;00m \u001b[38;5;21m_get_text_metrics_with_cache_impl\u001b[39m(\n\u001b[0;32m    103\u001b[0m         renderer_ref, text, fontprop, ismath, dpi):\n\u001b[0;32m    104\u001b[0m     \u001b[38;5;66;03m# dpi is unused, but participates in cache invalidation (via the renderer).\u001b[39;00m\n\u001b[1;32m--> 105\u001b[0m     \u001b[38;5;28;01mreturn\u001b[39;00m renderer_ref()\u001b[38;5;241m.\u001b[39mget_text_width_height_descent(text, fontprop, ismath)\n",
      "File \u001b[1;32mc:\\Users\\Caio\\anaconda3\\Lib\\site-packages\\matplotlib\\backends\\backend_agg.py:234\u001b[0m, in \u001b[0;36mRendererAgg.get_text_width_height_descent\u001b[1;34m(self, s, prop, ismath)\u001b[0m\n\u001b[0;32m    231\u001b[0m     \u001b[38;5;28;01mreturn\u001b[39;00m width, height, descent\n\u001b[0;32m    233\u001b[0m font \u001b[38;5;241m=\u001b[39m \u001b[38;5;28mself\u001b[39m\u001b[38;5;241m.\u001b[39m_prepare_font(prop)\n\u001b[1;32m--> 234\u001b[0m font\u001b[38;5;241m.\u001b[39mset_text(s, \u001b[38;5;241m0.0\u001b[39m, flags\u001b[38;5;241m=\u001b[39mget_hinting_flag())\n\u001b[0;32m    235\u001b[0m w, h \u001b[38;5;241m=\u001b[39m font\u001b[38;5;241m.\u001b[39mget_width_height()  \u001b[38;5;66;03m# width and height of unrotated string\u001b[39;00m\n\u001b[0;32m    236\u001b[0m d \u001b[38;5;241m=\u001b[39m font\u001b[38;5;241m.\u001b[39mget_descent()\n",
      "\u001b[1;31mKeyboardInterrupt\u001b[0m: "
     ]
    }
   ],
   "source": [
    "# Distribuição das variáveis numéricas (Rating_Value, Rating_Count, Release_Year)\n",
    "plt.figure(figsize=(14, 8))\n",
    "\n",
    "# Rating Value\n",
    "plt.subplot(2, 2, 1)\n",
    "sns.histplot(parfum['Rating_Value'], kde=True, color='blue')\n",
    "plt.title('Distribuição de Rating_Value')\n",
    "\n",
    "# Rating Count\n",
    "plt.subplot(2, 2, 2)\n",
    "sns.histplot(parfum['Rating_Count'], kde=True, color='green')\n",
    "plt.title('Distribuição de Rating_Count')\n",
    "\n",
    "# Release Year\n",
    "plt.subplot(2, 2, 3)\n",
    "sns.histplot(parfum['Release_Year'], kde=True, color='red')\n",
    "plt.title('Distribuição de Release_Year')\n",
    "\n",
    "plt.tight_layout()\n",
    "plt.show()\n",
    "\n",
    "# Distribuição das variáveis categóricas (Brand, Concentration, Main_Accords)\n",
    "plt.figure(figsize=(14, 8))\n",
    "\n",
    "# Distribuição das marcas\n",
    "plt.subplot(2, 2, 1)\n",
    "sns.countplot(data=parfum, y='Brand', order=parfum['Brand'].value_counts().index)\n",
    "plt.title('Distribuição das Marcas')\n",
    "\n",
    "# Distribuição das concentrações\n",
    "plt.subplot(2, 2, 2)\n",
    "sns.countplot(data=parfum, y='Concentration', order=parfum['Concentration'].value_counts().index)\n",
    "plt.title('Distribuição das Concentrações')\n",
    "\n",
    "# Distribuição dos principais acordes\n",
    "plt.subplot(2, 2, 3)\n",
    "sns.countplot(data=parfum, y='Main_Accords', order=parfum['Main_Accords'].value_counts().index)\n",
    "plt.title('Distribuição dos Principais Acordes')\n",
    "\n",
    "plt.tight_layout()\n",
    "plt.show()\n",
    "\n",
    "# Correlação entre variáveis numéricas (Rating_Value, Rating_Count, Release_Year)\n",
    "corr_matrix = parfum[['Rating_Value', 'Rating_Count', 'Release_Year']].corr()\n",
    "\n",
    "# Plotando a matriz de correlação\n",
    "plt.figure(figsize=(8, 6))\n",
    "sns.heatmap(corr_matrix, annot=True, cmap='coolwarm', fmt='.2f', linewidths=1, linecolor='black')\n",
    "plt.title('Correlação entre Variáveis Numéricas')\n",
    "plt.show()\n",
    "\n",
    "# Analisando perfumistas e suas contribuições (Top 10 perfumistas mais frequentes)\n",
    "top_perfumers = parfum['Perfumers'].value_counts().head(10)\n",
    "plt.figure(figsize=(10, 6))\n",
    "sns.barplot(x=top_perfumers.values, y=top_perfumers.index, palette='viridis')\n",
    "plt.title('Top 10 Perfumistas Mais Frequentes')\n",
    "plt.xlabel('Número de Perfumes')\n",
    "plt.ylabel('Perfumista')\n",
    "plt.show()"
   ]
  },
  {
   "cell_type": "markdown",
   "metadata": {},
   "source": [
    "## Tratamento de nulos"
   ]
  },
  {
   "cell_type": "code",
   "execution_count": null,
   "metadata": {},
   "outputs": [],
   "source": []
  },
  {
   "cell_type": "markdown",
   "metadata": {},
   "source": [
    "## Observação e tratamento de Outliers"
   ]
  },
  {
   "cell_type": "code",
   "execution_count": null,
   "metadata": {},
   "outputs": [],
   "source": []
  }
 ],
 "metadata": {
  "kernelspec": {
   "display_name": "base",
   "language": "python",
   "name": "python3"
  },
  "language_info": {
   "codemirror_mode": {
    "name": "ipython",
    "version": 3
   },
   "file_extension": ".py",
   "mimetype": "text/x-python",
   "name": "python",
   "nbconvert_exporter": "python",
   "pygments_lexer": "ipython3",
   "version": "3.11.3"
  }
 },
 "nbformat": 4,
 "nbformat_minor": 2
}
